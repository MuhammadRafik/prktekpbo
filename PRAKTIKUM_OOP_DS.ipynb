{
  "nbformat": 4,
  "nbformat_minor": 0,
  "metadata": {
    "colab": {
      "provenance": [],
      "authorship_tag": "ABX9TyNg6W0GS4OF+8RgFWZ+e6FN",
      "include_colab_link": true
    },
    "kernelspec": {
      "name": "python3",
      "display_name": "Python 3"
    },
    "language_info": {
      "name": "python"
    }
  },
  "cells": [
    {
      "cell_type": "markdown",
      "metadata": {
        "id": "view-in-github",
        "colab_type": "text"
      },
      "source": [
        "<a href=\"https://colab.research.google.com/github/MuhammadRafik/prktekpbo/blob/main/PRAKTIKUM_OOP_DS.ipynb\" target=\"_parent\"><img src=\"https://colab.research.google.com/assets/colab-badge.svg\" alt=\"Open In Colab\"/></a>"
      ]
    },
    {
      "cell_type": "markdown",
      "source": [
        "MEMBUAT CLASS MAHASISWA"
      ],
      "metadata": {
        "id": "TDEOkzriOBAd"
      }
    },
    {
      "cell_type": "code",
      "source": [
        "class Mahasiswa:\n",
        "  #atribut\n",
        "  def __init__(self, nama, nim, jurusan, ipk):\n",
        "    self.__nim = nim\n",
        "    self.nama = nama\n",
        "    self.jurusan = jurusan\n",
        "    self.ipk = ipk\n",
        " #methode\n",
        " #GETTER AND SETTER (methode tertentu untuk mengakses data privat)\n",
        "  def get_nim(self):\n",
        "    return self.__nim #mengambil nilai NIM yang privat\n",
        "  def set_ipk(self, ipk):\n",
        "    self.ipk = ipk# mengubah atau menambah ipk\n",
        "  def cetak_info(self):\n",
        "    print(f\"Nim : {self.__nim}, Nama : {self.nama}, Jurusan: {self.jurusan}, IPK: {self.ipk}\")\n",
        "#STRUKTUR DATA UNTUK MENYIMPAN DATA OBJEK MAHASISWA\n",
        "#LIST\n",
        "data_mahasiswa = []#list dikosongin\n",
        "#fungsi menambah data mahasiawa\n",
        "def tambah_mahasiswa(nim, nama, jurusan, ipk):\n",
        "  mhs = Mahasiswa(nama, nim, jurusan, ipk)#membuat objek\n",
        "  data_mahasiswa.append(mhs)#proses menambahkan data ke list\n",
        "\n",
        "#fungsi menamoilakan data\n",
        "def tampilkan_semua():\n",
        "  for m in data_mahasiswa:\n",
        "      m.cetak_info()#panggil mothod cetak_info()\n",
        "#fungsi mencari mahasiswa\n",
        "def cari_by_nim(nim):\n",
        "  for m in data_mahasiswa:\n",
        "    if m.grt_nim() == nim:\n",
        "      return m\n",
        "  return None\n",
        "#fungsi mengahapus mahasiswa\n",
        "def hapus_by_nim():\n",
        "  global data_mahasiswa\n",
        "  data_mahasiswa = [m for m in data_mahasiswa if m.get_by_nim != nim]\n",
        "#fungsi mengurutkan data IPK dari tinggi ke rendah\n",
        "#saya pakai sruktur data SORT - SORTED\n",
        "#lamda m:m.ipk artinya mengurutkan data berdasarkan ATRIBUT ipk\n",
        "#revers = true ,dari tinggi ke rendah\n",
        "def urutkan_by_ipk():\n",
        "  sorted_list = sorted(data_mahasiswa, key=lambda m:m.ipk, reverse=True)\n",
        "  for m in sorted_list:\n",
        "      m.cetak_info()\n",
        "\n",
        "\n",
        "#SAATNYA INPUT INPUT\n",
        "while True:\n",
        "  print(\"\\nMenu:\")\n",
        "  print(\"1. Tambah Mahasiswa\")\n",
        "  print(\"2. Tampilkan Mahasiswa\")\n",
        "  print(\"3. Cari Mahasiswa\")\n",
        "  print(\"4. Hapus Mahasiswa\")\n",
        "  print(\"5. Urutkan IPK\")\n",
        "  print(\"0. keluar\")\n",
        "\n",
        "  pilihan = input(\"pilih menu : \")\n",
        "  if pilihan == \"1\":\n",
        "    nim = input(\"NIM:\")\n",
        "    nama = input(\"Nama:\")\n",
        "    jurusan = input(\"Jurusan:\")\n",
        "    ipk = float(input(\"IPK:\"))\n",
        "    tambah_mahasiswa(nim, nama, jurusan, ipk)\n",
        "  elif pilihan == \"2\":\n",
        "    tampilkan_semua()\n",
        "    #piliohan 3\n",
        "    #pilihan 4\n",
        "    #pilihan 5\n",
        "  elif pilihan == \"0\":\n",
        "      break\n",
        "  else:\n",
        "      ptint(\"pilihan tidak valit\")"
      ],
      "metadata": {
        "colab": {
          "base_uri": "https://localhost:8080/"
        },
        "id": "J3rPf86VOOZc",
        "outputId": "8428a807-8f08-48fe-99a7-069836466627"
      },
      "execution_count": null,
      "outputs": [
        {
          "output_type": "stream",
          "name": "stdout",
          "text": [
            "\n",
            "Menu:\n",
            "1. Tambah Mahasiswa\n",
            "2. Tampilkan Mahasiswa\n",
            "3. Cari Mahasiswa\n",
            "4. Hapus Mahasiswa\n",
            "5. Urutkan IPK\n",
            "0. keluar\n",
            "pilih menu : 1\n",
            "NIM:2427\n",
            "Nama:wahyu anjing\n",
            "Jurusan:TI\n",
            "IPK:11\n",
            "\n",
            "Menu:\n",
            "1. Tambah Mahasiswa\n",
            "2. Tampilkan Mahasiswa\n",
            "3. Cari Mahasiswa\n",
            "4. Hapus Mahasiswa\n",
            "5. Urutkan IPK\n",
            "0. keluar\n"
          ]
        }
      ]
    }
  ]
}