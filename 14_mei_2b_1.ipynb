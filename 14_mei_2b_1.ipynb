{
  "nbformat": 4,
  "nbformat_minor": 0,
  "metadata": {
    "colab": {
      "provenance": [],
      "authorship_tag": "ABX9TyMHpn+068zDdTJqnpU6yZoh",
      "include_colab_link": true
    },
    "kernelspec": {
      "name": "python3",
      "display_name": "Python 3"
    },
    "language_info": {
      "name": "python"
    }
  },
  "cells": [
    {
      "cell_type": "markdown",
      "metadata": {
        "id": "view-in-github",
        "colab_type": "text"
      },
      "source": [
        "<a href=\"https://colab.research.google.com/github/MuhammadRafik/prktekpbo/blob/main/14_mei_2b_1.ipynb\" target=\"_parent\"><img src=\"https://colab.research.google.com/assets/colab-badge.svg\" alt=\"Open In Colab\"/></a>"
      ]
    },
    {
      "cell_type": "code",
      "execution_count": null,
      "metadata": {
        "id": "mjpvGtce-Q9X"
      },
      "outputs": [],
      "source": []
    },
    {
      "cell_type": "markdown",
      "source": [
        "ini tentang LIST :List adalah kumpulan data yang bisa diubah.elemen list bisa bertipe apa saja dan bisa bisa diakses menggunakan indeks\n",
        "\n",
        "\n",
        "\n"
      ],
      "metadata": {
        "id": "rdS9VZqfBg2l"
      }
    },
    {
      "cell_type": "code",
      "source": [
        "buah = [\"apel\" , \"jeruk\" ,\"mangga\"]\n",
        "#menampilkan elemen pertama\n",
        "print(buah[0])\n",
        "#menambah elemen bernama pisang\n",
        "buah.append(\"pisang\")\n",
        "print(buah)\n"
      ],
      "metadata": {
        "colab": {
          "base_uri": "https://localhost:8080/"
        },
        "id": "NtU3icEMDTFK",
        "outputId": "c5521e27-2109-4246-dfe6-282bcb28b34e"
      },
      "execution_count": 5,
      "outputs": [
        {
          "output_type": "stream",
          "name": "stdout",
          "text": [
            "apel\n",
            "pisang\n"
          ]
        }
      ]
    },
    {
      "cell_type": "markdown",
      "source": [
        "buat list berisi 3 nama temanmu dan tampilkan nama yang ke kedua dari list tersebut."
      ],
      "metadata": {
        "id": "EV3E2JdNHF8D"
      }
    },
    {
      "cell_type": "markdown",
      "source": [],
      "metadata": {
        "id": "qnIHr4eqJFsq"
      }
    },
    {
      "cell_type": "code",
      "source": [
        "nama = [\"wahyu\" , \"abdi\" ,\"madan\"]\n",
        "#tampilkan nama yang kedua\n",
        "print(nama[1])"
      ],
      "metadata": {
        "colab": {
          "base_uri": "https://localhost:8080/"
        },
        "id": "zpJifAMSHYcU",
        "outputId": "936e7c6b-3353-41b9-ae4e-7f796905c85b"
      },
      "execution_count": 6,
      "outputs": [
        {
          "output_type": "stream",
          "name": "stdout",
          "text": [
            "abdi\n"
          ]
        }
      ]
    },
    {
      "cell_type": "markdown",
      "source": [
        "ini tentang dictionary"
      ],
      "metadata": {
        "id": "GdhgLwocJMnE"
      }
    },
    {
      "cell_type": "code",
      "source": [
        "mahasiswa = {\"nama\" : \"abdi\" ,\"umur\" : 60}\n",
        "print(mahasiswa[\"nama\"])\n",
        "mahasiswa[\"umur\"] = 25\n",
        "print(mahasiswa[\"umur\"])\n",
        "print(\"umur : 25\")#cara pertama\n",
        "print(\"umur :{mahasiswa['umur'']}\")\n",
        "print(\"umur:\",mahasiswa[\"umur\"])"
      ],
      "metadata": {
        "colab": {
          "base_uri": "https://localhost:8080/"
        },
        "id": "7Gy9kSHJKimc",
        "outputId": "d4287f35-81ae-4a2d-876a-7e673f7a12d0"
      },
      "execution_count": 24,
      "outputs": [
        {
          "output_type": "stream",
          "name": "stdout",
          "text": [
            "abdi\n",
            "25\n",
            "umur : 25\n",
            "umur :{mahasiswa['umur'']}\n",
            "umur: 25\n"
          ]
        }
      ]
    },
    {
      "cell_type": "markdown",
      "source": [
        "ini tentang TUPLE :TUPLE seperti list,tapi tidak bisa diubah setelah dibuat (immpotible)"
      ],
      "metadata": {
        "id": "2pEPXAXLPbEL"
      }
    },
    {
      "cell_type": "code",
      "source": [
        "koordinat = (5, 10)\n",
        "print(koordinat[1])"
      ],
      "metadata": {
        "colab": {
          "base_uri": "https://localhost:8080/"
        },
        "id": "evk-x0-5Pw9Q",
        "outputId": "dc88d059-6a8a-446d-d068-720333ba8cdc"
      },
      "execution_count": 25,
      "outputs": [
        {
          "output_type": "stream",
          "name": "stdout",
          "text": [
            "10\n"
          ]
        }
      ]
    },
    {
      "cell_type": "markdown",
      "source": [
        "ini tentang SET : set tidak menerima data duplikat dan tidak punya urutan pasti"
      ],
      "metadata": {
        "id": "0wO123FLQJyb"
      }
    },
    {
      "cell_type": "code",
      "source": [
        "angka = {1, 2, 3, 4, 2, 2, 3, 1}\n",
        "print(angka)"
      ],
      "metadata": {
        "colab": {
          "base_uri": "https://localhost:8080/"
        },
        "id": "paSnyTaEQSnu",
        "outputId": "43d1580f-d917-4666-ea58-bc24208972a8"
      },
      "execution_count": 26,
      "outputs": [
        {
          "output_type": "stream",
          "name": "stdout",
          "text": [
            "{1, 2, 3, 4}\n"
          ]
        }
      ]
    },
    {
      "cell_type": "markdown",
      "source": [
        "ini tentang SORT: untuk mengurutkan data dalam list,menggunakan sort() (ubah list asli) atau sorted() (hasil baru)."
      ],
      "metadata": {
        "id": "qZqbt9aCTPKp"
      }
    },
    {
      "cell_type": "code",
      "source": [
        "nilai = [90,70,80,200,100]\n",
        "nilai.sort()\n",
        "print(nilai)"
      ],
      "metadata": {
        "colab": {
          "base_uri": "https://localhost:8080/"
        },
        "id": "JFkhWYvfTsiQ",
        "outputId": "acf94ba8-3011-457a-c331-9cb0bc4ccc48"
      },
      "execution_count": 30,
      "outputs": [
        {
          "output_type": "stream",
          "name": "stdout",
          "text": [
            "[70, 80, 90, 100, 200]\n"
          ]
        }
      ]
    }
  ]
}