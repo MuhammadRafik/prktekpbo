{
  "nbformat": 4,
  "nbformat_minor": 0,
  "metadata": {
    "colab": {
      "provenance": [],
      "authorship_tag": "ABX9TyM8jxnXG2iKlw2QLxA/d4r8",
      "include_colab_link": true
    },
    "kernelspec": {
      "name": "python3",
      "display_name": "Python 3"
    },
    "language_info": {
      "name": "python"
    }
  },
  "cells": [
    {
      "cell_type": "markdown",
      "metadata": {
        "id": "view-in-github",
        "colab_type": "text"
      },
      "source": [
        "<a href=\"https://colab.research.google.com/github/MuhammadRafik/prktekpbo/blob/main/15_mei_2b_1.ipynb\" target=\"_parent\"><img src=\"https://colab.research.google.com/assets/colab-badge.svg\" alt=\"Open In Colab\"/></a>"
      ]
    },
    {
      "cell_type": "markdown",
      "source": [
        "ini tentang DEF"
      ],
      "metadata": {
        "id": "flV1RO0TfpCz"
      }
    },
    {
      "cell_type": "code",
      "source": [
        "def sapa(nama):\n",
        "  return f\"hallo, {nama}!\"\n",
        "print(sapa(\"aran\"))"
      ],
      "metadata": {
        "colab": {
          "base_uri": "https://localhost:8080/"
        },
        "id": "6P1yPLdJfs6D",
        "outputId": "3e02ab29-9886-40e4-b18d-f12f47e294ad"
      },
      "execution_count": 34,
      "outputs": [
        {
          "output_type": "stream",
          "name": "stdout",
          "text": [
            "hallo, aran!\n"
          ]
        }
      ]
    },
    {
      "cell_type": "markdown",
      "source": [
        "INI TENTANG INIT"
      ],
      "metadata": {
        "id": "OcI_ahwcicXy"
      }
    },
    {
      "cell_type": "code",
      "source": [
        "class Mahasiswa :\n",
        "  def __init__(self, nama, nim):\n",
        "    self.nama = nama #atribut mahasiswa\n",
        "    self.nim = nim #atribut mahasiswa\n",
        "  def sapa(self):\n",
        "    return f\"sawadhi khap, nama saya {self.nama}!\"\n",
        "#cara menggunakan init\n",
        "m1 = Mahasiswa(\"aran\", 24302037)\n",
        "m2 = Mahasiswa(\"wahyu\", 24302038)\n",
        "print(m1.nama)\n",
        "print(m1.nim)\n",
        "print(m1.sapa())\n",
        "print(m2.nama)\n",
        "print(m2.nim)\n",
        "print(m2.sapa())\n"
      ],
      "metadata": {
        "colab": {
          "base_uri": "https://localhost:8080/"
        },
        "id": "MfDOaAE4ifu4",
        "outputId": "16630c6c-22d0-4dbe-a7cd-5221acf89efa"
      },
      "execution_count": 39,
      "outputs": [
        {
          "output_type": "stream",
          "name": "stdout",
          "text": [
            "aran\n",
            "24302037\n",
            "sawadhi khap, nama saya aran!\n",
            "wahyu\n",
            "24302038\n",
            "sawadhi khap, nama saya wahyu!\n"
          ]
        }
      ]
    }
  ]
}